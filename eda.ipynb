{
 "cells": [
  {
   "cell_type": "code",
   "execution_count": 1,
   "metadata": {},
   "outputs": [],
   "source": [
    "import matplotlib.pyplot as plt\n",
    "import pandas as pd\n",
    "import numpy as np"
   ]
  },
  {
   "cell_type": "code",
   "execution_count": 2,
   "metadata": {},
   "outputs": [],
   "source": [
    "audio_dt = pd.read_pickle('data/imported_audio.pkl')\n",
    "audio_dt = audio_dt[audio_dt.esc10]"
   ]
  },
  {
   "cell_type": "code",
   "execution_count": 9,
   "metadata": {},
   "outputs": [
    {
     "data": {
      "text/html": [
       "<div>\n",
       "<style scoped>\n",
       "    .dataframe tbody tr th:only-of-type {\n",
       "        vertical-align: middle;\n",
       "    }\n",
       "\n",
       "    .dataframe tbody tr th {\n",
       "        vertical-align: top;\n",
       "    }\n",
       "\n",
       "    .dataframe thead th {\n",
       "        text-align: right;\n",
       "    }\n",
       "</style>\n",
       "<table border=\"1\" class=\"dataframe\">\n",
       "  <thead>\n",
       "    <tr style=\"text-align: right;\">\n",
       "      <th></th>\n",
       "      <th>filename</th>\n",
       "      <th>audio</th>\n",
       "      <th>fold</th>\n",
       "      <th>target</th>\n",
       "      <th>category</th>\n",
       "      <th>esc10</th>\n",
       "      <th>src_file</th>\n",
       "      <th>take</th>\n",
       "    </tr>\n",
       "  </thead>\n",
       "  <tbody>\n",
       "    <tr>\n",
       "      <th>0</th>\n",
       "      <td>1-100032-A-0.wav</td>\n",
       "      <td>&lt;0/1-100032-A-0.wav&gt;</td>\n",
       "      <td>1</td>\n",
       "      <td>0</td>\n",
       "      <td>dog</td>\n",
       "      <td>True</td>\n",
       "      <td>100032</td>\n",
       "      <td>A</td>\n",
       "    </tr>\n",
       "    <tr>\n",
       "      <th>14</th>\n",
       "      <td>1-110389-A-0.wav</td>\n",
       "      <td>&lt;0/1-110389-A-0.wav&gt;</td>\n",
       "      <td>1</td>\n",
       "      <td>0</td>\n",
       "      <td>dog</td>\n",
       "      <td>True</td>\n",
       "      <td>110389</td>\n",
       "      <td>A</td>\n",
       "    </tr>\n",
       "    <tr>\n",
       "      <th>24</th>\n",
       "      <td>1-116765-A-41.wav</td>\n",
       "      <td>&lt;41/1-116765-A-41.wav&gt;</td>\n",
       "      <td>1</td>\n",
       "      <td>41</td>\n",
       "      <td>chainsaw</td>\n",
       "      <td>True</td>\n",
       "      <td>116765</td>\n",
       "      <td>A</td>\n",
       "    </tr>\n",
       "    <tr>\n",
       "      <th>54</th>\n",
       "      <td>1-17150-A-12.wav</td>\n",
       "      <td>&lt;12/1-17150-A-12.wav&gt;</td>\n",
       "      <td>1</td>\n",
       "      <td>12</td>\n",
       "      <td>crackling_fire</td>\n",
       "      <td>True</td>\n",
       "      <td>17150</td>\n",
       "      <td>A</td>\n",
       "    </tr>\n",
       "    <tr>\n",
       "      <th>55</th>\n",
       "      <td>1-172649-A-40.wav</td>\n",
       "      <td>&lt;40/1-172649-A-40.wav&gt;</td>\n",
       "      <td>1</td>\n",
       "      <td>40</td>\n",
       "      <td>helicopter</td>\n",
       "      <td>True</td>\n",
       "      <td>172649</td>\n",
       "      <td>A</td>\n",
       "    </tr>\n",
       "  </tbody>\n",
       "</table>\n",
       "</div>"
      ],
      "text/plain": [
       "             filename                   audio  fold  target        category  \\\n",
       "0    1-100032-A-0.wav    <0/1-100032-A-0.wav>     1       0             dog   \n",
       "14   1-110389-A-0.wav    <0/1-110389-A-0.wav>     1       0             dog   \n",
       "24  1-116765-A-41.wav  <41/1-116765-A-41.wav>     1      41        chainsaw   \n",
       "54   1-17150-A-12.wav   <12/1-17150-A-12.wav>     1      12  crackling_fire   \n",
       "55  1-172649-A-40.wav  <40/1-172649-A-40.wav>     1      40      helicopter   \n",
       "\n",
       "    esc10  src_file take  \n",
       "0    True    100032    A  \n",
       "14   True    110389    A  \n",
       "24   True    116765    A  \n",
       "54   True     17150    A  \n",
       "55   True    172649    A  "
      ]
     },
     "execution_count": 9,
     "metadata": {},
     "output_type": "execute_result"
    }
   ],
   "source": [
    "audio_dt.head()"
   ]
  },
  {
   "cell_type": "markdown",
   "metadata": {},
   "source": [
    "## Plot the followings:\n",
    "- Historgram of each coefficient for each class\n",
    "- Random plot of N classes"
   ]
  },
  {
   "cell_type": "code",
   "execution_count": 10,
   "metadata": {},
   "outputs": [],
   "source": [
    "dict_category = {}"
   ]
  },
  {
   "cell_type": "code",
   "execution_count": 11,
   "metadata": {},
   "outputs": [],
   "source": [
    "row = audio_dt.iloc[0]"
   ]
  },
  {
   "cell_type": "code",
   "execution_count": 15,
   "metadata": {},
   "outputs": [
    {
     "data": {
      "text/plain": [
       "filename        1-100032-A-0.wav\n",
       "audio       <0/1-100032-A-0.wav>\n",
       "fold                           1\n",
       "target                         0\n",
       "category                     dog\n",
       "esc10                       True\n",
       "src_file                  100032\n",
       "take                           A\n",
       "Name: 0, dtype: object"
      ]
     },
     "execution_count": 15,
     "metadata": {},
     "output_type": "execute_result"
    }
   ],
   "source": [
    "row"
   ]
  },
  {
   "cell_type": "code",
   "execution_count": 13,
   "metadata": {},
   "outputs": [
    {
     "ename": "KeyError",
     "evalue": "'dog'",
     "output_type": "error",
     "traceback": [
      "\u001b[0;31m---------------------------------------------------------------------------\u001b[0m",
      "\u001b[0;31mKeyError\u001b[0m                                  Traceback (most recent call last)",
      "Cell \u001b[0;32mIn[13], line 1\u001b[0m\n\u001b[0;32m----> 1\u001b[0m dict_category[row[\u001b[39m'\u001b[39;49m\u001b[39mcategory\u001b[39;49m\u001b[39m'\u001b[39;49m]]\n",
      "\u001b[0;31mKeyError\u001b[0m: 'dog'"
     ]
    }
   ],
   "source": [
    "dict_category[row['category']] = []"
   ]
  },
  {
   "cell_type": "code",
   "execution_count": 6,
   "metadata": {},
   "outputs": [
    {
     "data": {
      "text/plain": [
       "array([-300.99148845,    0.        ,    0.        ,    0.        ,\n",
       "          0.        ,    0.        ,    0.        ,    0.        ,\n",
       "          0.        ,    0.        ,    0.        ,    0.        ,\n",
       "          0.        ])"
      ]
     },
     "execution_count": 6,
     "metadata": {},
     "output_type": "execute_result"
    }
   ],
   "source": [
    "audio_dt['audio'][0].mfcc[0]"
   ]
  },
  {
   "cell_type": "code",
   "execution_count": null,
   "metadata": {},
   "outputs": [],
   "source": []
  }
 ],
 "metadata": {
  "kernelspec": {
   "display_name": "Python 3.10.8 ('hda')",
   "language": "python",
   "name": "python3"
  },
  "language_info": {
   "codemirror_mode": {
    "name": "ipython",
    "version": 3
   },
   "file_extension": ".py",
   "mimetype": "text/x-python",
   "name": "python",
   "nbconvert_exporter": "python",
   "pygments_lexer": "ipython3",
   "version": "3.10.8"
  },
  "orig_nbformat": 4,
  "vscode": {
   "interpreter": {
    "hash": "67d1de3865606fe8fbfaf8f1d9edf8071b715bf0db4eb30afd78496de31d9195"
   }
  }
 },
 "nbformat": 4,
 "nbformat_minor": 2
}
